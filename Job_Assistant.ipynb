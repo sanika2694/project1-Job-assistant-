{
  "nbformat": 4,
  "nbformat_minor": 0,
  "metadata": {
    "colab": {
      "provenance": [],
      "mount_file_id": "1_7RuTluUHwpVvJvb7e0KzwqYJsl5Zh8W",
      "authorship_tag": "ABX9TyPwyNriIxZGtIOWMHwxOdPX",
      "include_colab_link": true
    },
    "kernelspec": {
      "name": "python3",
      "display_name": "Python 3"
    },
    "language_info": {
      "name": "python"
    }
  },
  "cells": [
    {
      "cell_type": "markdown",
      "metadata": {
        "id": "view-in-github",
        "colab_type": "text"
      },
      "source": [
        "<a href=\"https://colab.research.google.com/github/sanika2694/project1-Job-assistant-/blob/main/Job_Assistant.ipynb\" target=\"_parent\"><img src=\"https://colab.research.google.com/assets/colab-badge.svg\" alt=\"Open In Colab\"/></a>"
      ]
    },
    {
      "cell_type": "code",
      "source": [
        "import random\n",
        "\n",
        "# Predefined jobs with skills, salaries, job descriptions, locations, experience, and vacancy links\n",
        "jobs = {\n",
        "    \"Software Engineer\": {\n",
        "        \"skills\": [\"python\", \"c++\", \"java\", \"javascript\"],\n",
        "        \"salary\": \"$80,000 - $120,000\",\n",
        "        \"description\": \"Develops and maintains software applications.\",\n",
        "        \"location\": \"Remote / San Francisco\",\n",
        "        \"experience\": \"2-5 years\",\n",
        "        \"vacancy_link\": \"https://www.example.com/software-engineer-jobs\"\n",
        "    },\n",
        "    \"Data Scientist\": {\n",
        "        \"skills\": [\"python\", \"machine learning\", \"statistics\", \"sql\"],\n",
        "        \"salary\": \"$90,000 - $130,000\",\n",
        "        \"description\": \"Analyzes data to extract insights and build predictive models.\",\n",
        "        \"location\": \"New York / Remote\",\n",
        "        \"experience\": \"2-5 years\",\n",
        "        \"vacancy_link\": \"https://www.example.com/data-scientist-jobs\"\n",
        "    },\n",
        "    \"HR Manager\": {\n",
        "        \"skills\": [\"communication\", \"problem solving\", \"organization\"],\n",
        "        \"salary\": \"$60,000 - $90,000\",\n",
        "        \"description\": \"Manages the recruitment process and employee relations.\",\n",
        "        \"location\": \"Chicago / Remote\",\n",
        "        \"experience\": \"3-7 years\",\n",
        "        \"vacancy_link\": \"https://www.example.com/hr-manager-jobs\"\n",
        "    },\n",
        "    \"Project Manager\": {\n",
        "        \"skills\": [\"leadership\", \"agile\", \"scrum\"],\n",
        "        \"salary\": \"$70,000 - $110,000\",\n",
        "        \"description\": \"Oversees projects, ensuring they meet deadlines and budget constraints.\",\n",
        "        \"location\": \"Los Angeles / Remote\",\n",
        "        \"experience\": \"4-8 years\",\n",
        "        \"vacancy_link\": \"https://www.example.com/project-manager-jobs\"\n",
        "    }\n",
        "}\n",
        "\n",
        "# Predefined responses\n",
        "responses = {\n",
        "    \"greeting\": [\"Hello! How can I assist you today?\", \"Hi there! What can I help you with?\", \"Hey! How may I assist you?\"],\n",
        "    \"goodbye\": [\"Goodbye! Have a great day!\", \"See you later!\", \"Goodbye, take care!\"],\n",
        "    \"name\": [\"I am a chatbot created to help you!\", \"I am here to assist with your questions!\"],\n",
        "    \"job\": [\"I'm a recruitment assistant. I can help you with job recommendations.\", \"I can assist you in finding the perfect job based on your skills!\"],\n",
        "    \"default\": [\"Sorry, I didn't quite get that. Can you try again?\", \"I'm not sure what you mean, could you rephrase it?\", \"Could you please clarify?\"]\n",
        "}\n",
        "\n",
        "# Function to handle user input and provide appropriate responses\n",
        "def chatbot_response(user_input):\n",
        "    user_input = user_input.lower()\n",
        "\n",
        "    if \"hello\" in user_input or \"hi\" in user_input:\n",
        "        return random.choice(responses[\"greeting\"])\n",
        "    elif \"bye\" in user_input or \"goodbye\" in user_input:\n",
        "        return random.choice(responses[\"goodbye\"])\n",
        "    elif \"your name\" in user_input:\n",
        "        return random.choice(responses[\"name\"])\n",
        "    elif \"job\" in user_input:\n",
        "        return random.choice(responses[\"job\"])\n",
        "    else:\n",
        "        return random.choice(responses[\"default\"])\n",
        "\n",
        "# Function to suggest jobs based on user's skills\n",
        "def suggest_jobs(skills):\n",
        "    suitable_jobs = []\n",
        "\n",
        "    for job, details in jobs.items():\n",
        "        job_skills = [skill.lower() for skill in details[\"skills\"]]  # Skills are made lowercase\n",
        "        if any(skill in job_skills for skill in skills):\n",
        "            suitable_jobs.append((job, details))\n",
        "\n",
        "    if suitable_jobs:\n",
        "        job_suggestions = \"Based on your skills, I suggest the following jobs:\\n\"\n",
        "        for job, details in suitable_jobs:\n",
        "            job_suggestions += f\"- **{job}**\\n\"\n",
        "            job_suggestions += f\"  - Description: {details['description']}\\n\"\n",
        "            job_suggestions += f\"  - Salary: {details['salary']}\\n\"\n",
        "            job_suggestions += f\"  - Location: {details['location']}\\n\"\n",
        "            job_suggestions += f\"  - Experience: {details['experience']}\\n\"\n",
        "            job_suggestions += f\"  - Apply here: {details['vacancy_link']}\\n\\n\"\n",
        "        return job_suggestions\n",
        "    else:\n",
        "        return \"I couldn't find any suitable jobs based on the skills you provided.\"\n",
        "\n",
        "# Function to start the chatbot conversation\n",
        "def chat():\n",
        "    print(\"Welcome to the Job Recommendation Chatbot! Type 'bye' to exit.\")\n",
        "\n",
        "    while True:\n",
        "        user_input = input(\"You: \").strip()\n",
        "\n",
        "        # If user says 'bye', exit the loop\n",
        "        if \"bye\" in user_input.lower():\n",
        "            print(\"Chatbot: \" + random.choice(responses[\"goodbye\"]))\n",
        "            break\n",
        "\n",
        "        # If the user asks for jobs, ask for their skills\n",
        "        if \"job\" in user_input.lower():\n",
        "            print(\"Chatbot: Please list your top skills, separated by commas (e.g., Python, Machine Learning, SQL).\")\n",
        "            skills_input = input(\"You: \").strip()\n",
        "            skills = [skill.strip().lower() for skill in skills_input.split(\",\")]  # Convert skills to lowercase\n",
        "            job_suggestions = suggest_jobs(skills)\n",
        "            print(\"Chatbot:\", job_suggestions)\n",
        "        else:\n",
        "            # Get chatbot's general response\n",
        "            response = chatbot_response(user_input)\n",
        "            print(\"Chatbot:\", response)\n",
        "\n",
        "# Start the chatbot\n",
        "chat()\n"
      ],
      "metadata": {
        "colab": {
          "base_uri": "https://localhost:8080/"
        },
        "id": "A0bDW2Z2HyzE",
        "outputId": "ab8f729c-51b1-49c7-fb58-ef943309b4b3"
      },
      "execution_count": null,
      "outputs": [
        {
          "output_type": "stream",
          "name": "stdout",
          "text": [
            "Welcome to the Job Recommendation Chatbot! Type 'bye' to exit.\n",
            "You: job\n",
            "Chatbot: Please list your top skills, separated by commas (e.g., Python, Machine Learning, SQL).\n",
            "You: sql\n",
            "Chatbot: Based on your skills, I suggest the following jobs:\n",
            "- **Data Scientist**\n",
            "  - Description: Analyzes data to extract insights and build predictive models.\n",
            "  - Salary: $90,000 - $130,000\n",
            "  - Location: New York / Remote\n",
            "  - Experience: 2-5 years\n",
            "  - Apply here: https://www.example.com/data-scientist-jobs\n",
            "\n",
            "\n",
            "You: thank you\n",
            "Chatbot: Could you please clarify?\n"
          ]
        }
      ]
    },
    {
      "cell_type": "code",
      "source": [],
      "metadata": {
        "id": "p8AP_xr-M71v"
      },
      "execution_count": null,
      "outputs": []
    }
  ]
}